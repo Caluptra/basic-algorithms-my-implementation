{
 "cells": [
  {
   "cell_type": "code",
   "execution_count": 1,
   "metadata": {},
   "outputs": [],
   "source": [
    "import numpy as np\n",
    "import matplotlib.pyplot as plt"
   ]
  },
  {
   "cell_type": "markdown",
   "metadata": {},
   "source": [
    "## Метрики машинного обучения\n",
    "* [Метрики классификации](#classification)\n",
    "* [Метрики регрессии](#regression)"
   ]
  },
  {
   "cell_type": "markdown",
   "metadata": {},
   "source": [
    "### Метрики классификации<a id='classification'></a>\n",
    "Бинарная классификация\n",
    "* [Accuracy](#accuracy)\n",
    "* [Precision](#precision)\n",
    "* [Recall](#recall)\n",
    "* [F1-Score](#f1)\n",
    "* [ROC-AUC score](#roc_auc)\n",
    "\n",
    "Мульти-классовая классификация\n",
    "* [Accuracy](#m_accuracy)\n",
    "* [Precision](#m_precision)\n",
    "* [Recall](#m_recall)\n",
    "* [F1-Score](#m_f1)\n",
    "* [ROC-AUC score](#m_roc_auc)"
   ]
  },
  {
   "cell_type": "markdown",
   "metadata": {},
   "source": [
    "используемые обозначения:\n",
    "TP - True Positive количество правильно предсказанных положительных значений\n",
    "\n",
    "TN - True Negative количество правильно предсказанных отрицательных значений\n",
    "\n",
    "FP - False Positive количество неправильно предсказанных положительных значений\n",
    "\n",
    "FN - False Negtive количество неправильно предсказанных отрицательных значений\n",
    "\n",
    "TPR - True Positive Rate показывает, какой процент среди всех positive верно предсказан моделью.\n",
    "$$ TPR = \\frac{TP}{TP + FN} $$\n",
    "\n",
    "FPR - False Positive Rate показывает какой процент среди всех negative неверно предсказан моделью.\n",
    "$$ FPR = \\frac{FP}{FP + TN} $$"
   ]
  },
  {
   "cell_type": "markdown",
   "metadata": {},
   "source": [
    "#### Accuracy<a id='accuracy'></a> \n",
    "в русском языке точность"
   ]
  },
  {
   "cell_type": "markdown",
   "metadata": {},
   "source": [
    "Наиболее простая и самая распространенная метрика, показывает отношение правильных предсказаний ко всем предсказаниям\n",
    "$$ Accuracy = \\frac {TP + TN}{TP + TN + FP + FN}$$\n",
    "\n",
    "Её главный минус - она не учитывает ложные срабатывания"
   ]
  },
  {
   "cell_type": "code",
   "execution_count": 2,
   "metadata": {},
   "outputs": [],
   "source": [
    "def accuracy(y_pred, y_true):\n",
    "    return sum(y_pred == y_true)/len(y_true)"
   ]
  },
  {
   "cell_type": "markdown",
   "metadata": {},
   "source": [
    "#### Precision<a id='precision'></a>\n",
    "в русском языке точность"
   ]
  },
  {
   "cell_type": "markdown",
   "metadata": {},
   "source": [
    "Метрика показывающая отношение правильно предсказанных положительных значений ко всем предсказанным положительным заначениям\n",
    "$$ Precision = \\frac{TP}{TP + FP}$$\n",
    "\n",
    "Используется когда наибольшую важность играет правильное положительное предсказания, а отрицательное предсказания играет второстепенную роль, либо используется, как дополнительная метрика "
   ]
  },
  {
   "cell_type": "code",
   "execution_count": 3,
   "metadata": {},
   "outputs": [],
   "source": [
    "def precision(y_pred, y_true):# y_true и y_pred здесь и ниже - numpy.ndarray\n",
    "    return sum(y_pred + t_true == 2)/sum(y_pred)"
   ]
  },
  {
   "cell_type": "markdown",
   "metadata": {},
   "source": [
    "#### Recall или же  (true positive rate)<a id='recall'></a>\n",
    "в русском языке «полнота» или «чувствительность»"
   ]
  },
  {
   "cell_type": "markdown",
   "metadata": {},
   "source": [
    "Эта метрика определяет количество истинно положительных среди всех меток класса, которые были определены как «положительный»\n",
    "$$ Recall = \\frac{TP}{TP + FN}$$\n",
    "\n",
    "Необходимо уделить особое внимание этой оценке, когда в поставленной задаче ошибка нераспознания положительного класса высока"
   ]
  },
  {
   "cell_type": "code",
   "execution_count": 4,
   "metadata": {},
   "outputs": [],
   "source": [
    "def recall(y_pred, y_true):\n",
    "    TP = sum(y_pred + y_true == 2)\n",
    "    FN = sum(((y_pred == 0)*1 + (y_true == 1)*1) == 2)\n",
    "    return TP/(TP + FN)"
   ]
  },
  {
   "cell_type": "markdown",
   "metadata": {},
   "source": [
    "#### F1-score<a id='f1'></a>\n",
    "в русском языке так же"
   ]
  },
  {
   "cell_type": "markdown",
   "metadata": {},
   "source": [
    "В том случае, если Precision и Recall являются одинаково значимыми, можно использовать их среднее гармоническое для получения оценки результатов, которое и называется F1-score\n",
    "$$ F1 = 2 * \\frac{precision * recall}{precision + recall}$$"
   ]
  },
  {
   "cell_type": "code",
   "execution_count": 5,
   "metadata": {},
   "outputs": [],
   "source": [
    "def f1_score(y_pred, y_true):\n",
    "    recall_value = recall(y_pred, y_true) \n",
    "    precision_value = precision(y_pred, y_true)\n",
    "    return 2*recall_value*precision_value/(precision_value + recall_value)"
   ]
  },
  {
   "cell_type": "markdown",
   "metadata": {},
   "source": [
    "#### ROC-AUC score<a id='roc_auc'></a>"
   ]
  },
  {
   "cell_type": "markdown",
   "metadata": {},
   "source": [
    "ROC — Receiver Operating Characteristic (рабочая характеристика приёмника) – график, показывающий зависимость верно классифицируемых объектов положительного класса от ложно положительно классифицируемых объектов негативного класса. Иными словами, соотношение True Positive Rate (Recall) и False Positive Rate (Рисунок 2). \n",
    "AUC или area under curve — это просто площадь под кривой ROC.\n",
    "Почему площадь под кривой ROC – хорошая метрика для оценки модели классификации?\n",
    "Хорошая метрика модели машинного обучения должна отображать истинную и постоянную способность модели к прогнозированию. Это означает, что, если я изменю тестовый набор данных, он не должен давать другой результат.\n",
    "\n",
    "ROC-кривая учитывает не только результаты классификации, но и вероятность предсказания всех классов. Например, если результат корректно классифицирован на основе 51% вероятности, то он, скорее всего, будет классифицирован неверно, если вы воспользуетесь другим тестовым датасетом. Кроме того, ROC-кривая также учитывает эффективность модели при различных пороговых значениях. Она является комплексной метрикой для оценки того, насколько хорошо разделяются случаи в разных группах."
   ]
  },
  {
   "cell_type": "code",
   "execution_count": 6,
   "metadata": {},
   "outputs": [],
   "source": [
    "def tpr(y_pred, y_true):\n",
    "    TP = sum(y_pred + y_true == 2)\n",
    "    FN = sum(((y_pred == 0)*1 + (y_true == 1)*1) == 2)\n",
    "    return TP/(TP + FN)\n",
    "\n",
    "def fpr(y_pred, y_true):\n",
    "    FP = sum((y_true == 0)*1 + (y_pred == 1)*1 == 2)\n",
    "    TN = sum((y_true == 0)*1 + (y_pred == 0)*1 == 2)\n",
    "    return FP/(FP+ TN)\n",
    "\n",
    "def roc(y_true, probs_true, step = 0):\n",
    "    min_p = min(probs)\n",
    "    max_p = max(probs)\n",
    "    tpr_values = []\n",
    "    fpr_values = []\n",
    "    if step == 0:\n",
    "        step = min_p\n",
    "    cutoff = min_p ## порог вероятности выше которой значения мы принимаем как положительные\n",
    "    while cutoff <= max_p:\n",
    "        predict = np.array((probs >= cutoff)*1)\n",
    "        tpr_values.append(tpr(predict, data))\n",
    "        fpr_values.append(fpr(predict, data))\n",
    "        cutoff += step\n",
    "    # строим график\n",
    "    roc_auc = np.trapz(x = fpr_values, y = tpr_values)\n",
    "    plt.plot(fpr_values, tpr_values, color='darkorange',\n",
    "         label='ROC кривая (area = %0.2f)' % roc_auc)\n",
    "    plt.plot([0, 1], [0, 1], color='navy', linestyle='--')\n",
    "    plt.xlim([0.0, 1.0])\n",
    "    plt.ylim([0.0, 1.05])\n",
    "    plt.xlabel('False Positive Rate')\n",
    "    plt.ylabel('True Positive Rate')\n",
    "    plt.title('ROC-кривая')\n",
    "    plt.legend(loc=\"lower right\")\n",
    "    plt.show()"
   ]
  },
  {
   "cell_type": "markdown",
   "metadata": {},
   "source": [
    "#### Accuracy<a id='m_accuracy'></a> "
   ]
  },
  {
   "cell_type": "markdown",
   "metadata": {},
   "source": [
    "Так-же как и для бинарной классификации, но для всех классов\n",
    "$$ Average Accuracy = \\frac{\\sum\\limits_{i=1}^K Accuracy_{i}}{K} $$\n",
    "\n",
    "K - колличество классов"
   ]
  },
  {
   "cell_type": "markdown",
   "metadata": {},
   "source": [
    "#### Precision<a id='m_precision'></a>"
   ]
  },
  {
   "cell_type": "markdown",
   "metadata": {},
   "source": [
    "Так-же как и для бинарной классификации, но для всех классов\n",
    "$$ Average Precision = \\frac{\\sum\\limits_{i=1}^K Precision_{i}}{K} $$\n",
    "\n",
    "K - колличество классов"
   ]
  },
  {
   "cell_type": "markdown",
   "metadata": {},
   "source": [
    "#### Recall или же  (true positive rate)<a id='m_recall'></a>"
   ]
  },
  {
   "cell_type": "markdown",
   "metadata": {},
   "source": [
    "Так-же как и для бинарной классификации, но для всех классов\n",
    "$$ Average Recall = \\frac{\\sum\\limits_{i=1}^K Recall_{i}}{K} $$\n",
    "\n",
    "K - колличество классов"
   ]
  },
  {
   "cell_type": "markdown",
   "metadata": {},
   "source": [
    "#### F1-score<a id='m_f1'></a>"
   ]
  },
  {
   "cell_type": "markdown",
   "metadata": {},
   "source": [
    "Так-же как и для бинарной классификации, но для всех классов\n",
    "$$ Average F1 = \\frac{\\sum\\limits_{i=1}^K F1_{i}}{K} $$\n",
    "\n",
    "K - колличество классов"
   ]
  },
  {
   "cell_type": "markdown",
   "metadata": {},
   "source": [
    "#### ROC-AUC score<a id='m_roc_auc'></a>"
   ]
  },
  {
   "cell_type": "markdown",
   "metadata": {},
   "source": [
    "Так-же как и для бинарной классификации, но для всех классов\n",
    "\n",
    "$$ AUC_{total} = \\sum\\limits_{i=1}^K AUC(c_{i})*f(c_{i}) $$\n",
    "\n",
    "f(c) - относительная частота класса c\n",
    "\n",
    "K - колличество классов"
   ]
  },
  {
   "cell_type": "markdown",
   "metadata": {},
   "source": [
    "### Метрики регрессии<a id='regression'></a>\n",
    "* [Логистическая функция потерть (logloss)](#logloss)\n",
    "* [Средняя квадратическая ошибка (MSE)](#mse)\n",
    "* [Среднеквадратическая ошибка (RMSE)](#rmse)\n",
    "* [Средняя абсолютная ошибка (MAE)](#mae)\n",
    "* [R в квадрате (R²)](#r)\n",
    "* [Среднеквадратичная логарифмическая ошибка (RMSLE)](#rmsle)"
   ]
  },
  {
   "cell_type": "markdown",
   "metadata": {},
   "source": [
    "#### Logistic Loss<a id='logloss'></a>"
   ]
  },
  {
   "cell_type": "markdown",
   "metadata": {},
   "source": [
    "логарифм потери\n",
    "$$ logloss = -\\frac{1}{l} * \\sum\\limits_{i=1}^l((y_i * log(\\hat{y_i}) + (1 - y_i) * log(1 - \\hat{y_i})) $$\n",
    "\n",
    "$$ \\hat{y} - предсказание\\:модели $$ \n",
    "\n",
    "$$ y - истинное\\:значение $$ \n",
    "$$ l - размер\\:выборки $$"
   ]
  },
  {
   "cell_type": "code",
   "execution_count": 7,
   "metadata": {},
   "outputs": [],
   "source": [
    "def logloss(y_true, y_pred):\n",
    "    return - (y_true * np.log(y_pred) + (1 - y_true) * np.log(1 - y_pred))"
   ]
  },
  {
   "cell_type": "markdown",
   "metadata": {},
   "source": [
    "#### Средняя квадратическая ошибка (MSE)<a id='mse'></a>\n",
    "сильно реагирует на выбросы, среднее от суммы квадратов ошибок\n",
    "\n",
    "$$ MSE = \\frac{1}{N}*\\sum\\limits_{i=1}^N(y_i - \\hat{y_i})^2 $$"
   ]
  },
  {
   "cell_type": "code",
   "execution_count": 8,
   "metadata": {},
   "outputs": [],
   "source": [
    "def mse(y_true, y_pred):\n",
    "    return sum((y_true-y_pred)**2)"
   ]
  },
  {
   "cell_type": "markdown",
   "metadata": {},
   "source": [
    "#### Среднеквадратическая ошибка (RMSE)<a id='rmse'></a>\n",
    "менее подвержена выбросам, является квадратным корне из MSE\n",
    "$$ RMSE =  \\sqrt{MSE} = \\sqrt{\\frac{1}{N}*\\sum\\limits_{i=1}^N(y_i - \\hat{y_i})^2} $$"
   ]
  },
  {
   "cell_type": "code",
   "execution_count": 9,
   "metadata": {},
   "outputs": [],
   "source": [
    "def rmse(y_true, y_pred):\n",
    "    return (sum((y_true-y_pred)**2))**(1/2)"
   ]
  },
  {
   "cell_type": "markdown",
   "metadata": {},
   "source": [
    "#### Средняя абсолютная ошибка (MAE)<a id='mae'></a>\n",
    "В MAE ошибка рассчитывается как среднее абсолютных разностей между целевыми значениями и прогнозами. MAE - это линейная оценка, которая означает, что все индивидуальные различия взвешены одинаково в среднем\n",
    "$$ MAE = \\frac{1}{N}*\\sum\\limits_{i=1}^N|y_i - \\hat{y_i}| $$"
   ]
  },
  {
   "cell_type": "code",
   "execution_count": 10,
   "metadata": {},
   "outputs": [],
   "source": [
    "def mae(y_true, y_pred):\n",
    "    return sum(np.abs((y_true-y_pred)))"
   ]
  },
  {
   "cell_type": "markdown",
   "metadata": {},
   "source": [
    "#### R² или же коэффициент детерминации<a id='r'></a>\n",
    "Он тесно связан с MSE, но имеет преимущество в том, что без масштабное- не имеет значения, являются ли выходные значения очень большими или очень маленькими,R² всегда будет между -∞ и 1.\n",
    "Когда R² отрицательно, это означает, что модель предсказывает хуже, чем предсказание среднего значения.\n",
    "$$ R^2 = 1 - \\frac{MSE_{model}}{MSE_{baseline}} $$\n",
    "$$ MSE_{baseline} - MSE\\:где\\:в\\:место\\:предсказания\\:модели\\:мы\\:используем\\:среднее\\:значение\\:целевой\\:переменной $$"
   ]
  },
  {
   "cell_type": "code",
   "execution_count": 11,
   "metadata": {},
   "outputs": [],
   "source": [
    "def r2(y_true, y_pred):\n",
    "      return 1 - (mse(y_true, y_pred)/mse(y_true, np.mean(y_true)))"
   ]
  },
  {
   "cell_type": "markdown",
   "metadata": {},
   "source": [
    "#### Среднеквадратичная логарифмическая ошибка (RMSLE)<a id='rmsle'></a>\n",
    "Это просто RMSE, рассчитанная в логарифмическом масштабе. Фактически, чтобы вычислить его, мы берем логарифм наших прогнозов и целевых значений и вычисляем среднеквадратичное отклонение между ними. Цели обычно неотрицательны, но могут быть равны 0, а логарифм 0 не определен. Вот почему константа обычно добавляется к прогнозам и целям перед применением логарифмической операции. Эта константа также может быть выбрана, чтобы отличаться от одной в зависимости от проблемы.\n",
    "$$ RMSLE = \\sqrt{\\frac{1}{N}\\sum\\limits_{i=1}^N(log(y_i + c) - log(\\hat{y_i}+c))^2} $$\n",
    "\n",
    "c- константа, обычно это единица"
   ]
  },
  {
   "cell_type": "code",
   "execution_count": 12,
   "metadata": {},
   "outputs": [],
   "source": [
    "def rmsle(y_true, y_pred, c = 1):\n",
    "    N = len(y_true)\n",
    "    return (1/N*sum(np.log(y_true + c) - np.log(y_pred + c)))**(1/2)"
   ]
  },
  {
   "cell_type": "code",
   "execution_count": null,
   "metadata": {},
   "outputs": [],
   "source": []
  }
 ],
 "metadata": {
  "kernelspec": {
   "display_name": "Python 3",
   "language": "python",
   "name": "python3"
  },
  "language_info": {
   "codemirror_mode": {
    "name": "ipython",
    "version": 3
   },
   "file_extension": ".py",
   "mimetype": "text/x-python",
   "name": "python",
   "nbconvert_exporter": "python",
   "pygments_lexer": "ipython3",
   "version": "3.8.6"
  }
 },
 "nbformat": 4,
 "nbformat_minor": 4
}
