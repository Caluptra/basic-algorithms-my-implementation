{
 "cells": [
  {
   "cell_type": "code",
   "execution_count": 1,
   "metadata": {},
   "outputs": [],
   "source": [
    "import numpy as np\n",
    "import matplotlib.pyplot as plt"
   ]
  },
  {
   "cell_type": "code",
   "execution_count": 2,
   "metadata": {},
   "outputs": [],
   "source": [
    "class simple_linear_regression():\n",
    "    def __init__(self, train_time = False):\n",
    "        self.train_time = train_time\n",
    "    \n",
    "    def fit(self, X_data, y_data):\n",
    "        \n",
    "        X_data = np.array(X_data)\n",
    "        self.m = X_data.shape[1]\n",
    "        n = X_data.shape[0]\n",
    "        ones = np.ones((n, 1))\n",
    "        \n",
    "        X = np.column_stack((ones, X_data))\n",
    "        y = np.array(y_data).T\n",
    "        B = np.linalg.pinv(X.T.dot(X)).dot(X.T).dot(y)\n",
    "        \n",
    "        self.m = X.shape[1] - 1\n",
    "        self.coef = B\n",
    "        \n",
    "    def predict(self, X_data):\n",
    "        \n",
    "        X_data = np.array(X_data)\n",
    "        n = X_data.shape[0]\n",
    "        m = X_data.shape[1]\n",
    "        if m != self.m:\n",
    "            return 'invalid data shape'\n",
    "        \n",
    "        ones = np.ones((n, 1))\n",
    "        X = np.column_stack((ones, X_data))\n",
    "        \n",
    "        return X.dot(self.coef)"
   ]
  },
  {
   "cell_type": "code",
   "execution_count": null,
   "metadata": {},
   "outputs": [],
   "source": []
  }
 ],
 "metadata": {
  "kernelspec": {
   "display_name": "Python 3",
   "language": "python",
   "name": "python3"
  },
  "language_info": {
   "codemirror_mode": {
    "name": "ipython",
    "version": 3
   },
   "file_extension": ".py",
   "mimetype": "text/x-python",
   "name": "python",
   "nbconvert_exporter": "python",
   "pygments_lexer": "ipython3",
   "version": "3.8.6"
  }
 },
 "nbformat": 4,
 "nbformat_minor": 4
}
